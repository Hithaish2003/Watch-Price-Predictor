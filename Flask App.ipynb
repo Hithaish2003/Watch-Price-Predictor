{
 "cells": [
  {
   "cell_type": "code",
   "execution_count": null,
   "id": "2732d89c-bcb3-4db2-a7d4-19ad11be25fd",
   "metadata": {},
   "outputs": [
    {
     "name": "stdout",
     "output_type": "stream",
     "text": [
      "Watch price model loaded successfully.\n",
      " * Serving Flask app '__main__'\n",
      " * Debug mode: off\n"
     ]
    },
    {
     "name": "stderr",
     "output_type": "stream",
     "text": [
      "WARNING: This is a development server. Do not use it in a production deployment. Use a production WSGI server instead.\n",
      " * Running on http://127.0.0.1:5000\n",
      "Press CTRL+C to quit\n",
      "127.0.0.1 - - [19/Jul/2025 23:31:43] \"GET / HTTP/1.1\" 200 -\n",
      "127.0.0.1 - - [19/Jul/2025 23:31:43] \"GET /favicon.ico HTTP/1.1\" 404 -\n"
     ]
    }
   ],
   "source": [
    "from flask import Flask, render_template, request\n",
    "from flask_wtf import FlaskForm\n",
    "from wtforms import StringField, SelectField,SubmitField,validators\n",
    "from wtforms.validators import DataRequired\n",
    "import os\n",
    "import pickle\n",
    "import numpy as np \n",
    "\n",
    "app = Flask(__name__)\n",
    "app.config['SECRET_KEY']='kah'\n",
    "\n",
    "try:\n",
    "    with open('WatchPrice.pkl', 'rb') as file:\n",
    "        watch_model = pickle.load(file)\n",
    "    print(\"Watch price model loaded successfully.\")\n",
    "    with open('lable.pkl', 'rb') as file:\n",
    "        lbbrn= pickle.load(file)\n",
    "except FileNotFoundError:\n",
    "    print(f\"Error: Model file not found at {MODEL_PATH}. Please ensure 'watch_price_model.pkl' exists.\")\n",
    "except Exception as e:\n",
    "    print(f\"Error loading model: {e}\")\n",
    "\n",
    "class WatchPredictionForm(FlaskForm):\n",
    "    brand = SelectField('Brand',\n",
    "                    validators=[DataRequired()],\n",
    "                    choices=[\n",
    "                        ('Rolex', 'Rolex'), ('Omega', 'Omega'), ('Tag Heuer', 'Tag Heuer'),\n",
    "                        ('Breitling', 'Breitling'), ('Cartier', 'Cartier'), ('Jaeger-LeCoultre', 'Jaeger-LeCoultre'),\n",
    "                        ('Seiko', 'Seiko'), ('Citizen', 'Citizen'), ('Tissot', 'Tissot'), ('Hamilton', 'Hamilton'),\n",
    "                        ('Longines', 'Longines'), ('Oris', 'Oris'), ('Bell & Ross', 'Bell & Ross'), ('Breguet', 'Breguet'),\n",
    "                        ('Audemars Piguet', 'Audemars Piguet'), ('Vacheron Constantin', 'Vacheron Constantin'),\n",
    "                        ('Panerai', 'Panerai'), ('Tudor', 'Tudor'), ('IWC', 'IWC'), ('Montblanc', 'Montblanc'),\n",
    "                        ('Blancpain', 'Blancpain'), ('Zenith', 'Zenith'), ('Piaget', 'Piaget'),\n",
    "                        ('Ulysse Nardin', 'Ulysse Nardin'), ('Jaquet Droz', 'Jaquet Droz'), ('Bulgari', 'Bulgari'),\n",
    "                        ('Chopard', 'Chopard'), ('Girard-Perregaux', 'Girard-Perregaux'),\n",
    "                        ('Glashütte Original', 'Glashütte Original'), ('Hublot', 'Hublot'),\n",
    "                        ('Patek Philippe', 'Patek Philippe'), ('Bulova', 'Bulova'), ('Sinn', 'Sinn'),\n",
    "                        ('A. Lange & Sohne', 'A. Lange & Sohne'), ('Rado', 'Rado'),\n",
    "                        ('Frederique Constant', 'Frederique Constant'), ('TAG Heuer', 'TAG Heuer'),\n",
    "                        ('Baume & Mercier', 'Baume & Mercier'), ('A. Lange & Söhne', 'A. Lange & Söhne')\n",
    "                    ],\n",
    "                    render_kw={\"placeholder\": \"e.g., Rolex, Omega, Seiko, Titan, Casio\"})\n",
    "    water_resistance=StringField('Water Resistance in meters:',validators=[validators .DataRequired()])\n",
    "    power_reserve=StringField('Power Reserve in hours:',validators=[validators .DataRequired()])\n",
    "    submit = SubmitField('Predict Price')\n",
    "\n",
    "def preprocess_input(brand, water_resistance_str,power_reserve_str):\n",
    "    try:\n",
    "        water_resistance_value = int(water_resistance_str)\n",
    "        power_reserve_value = int(power_reserve_str)\n",
    "    except ValueError:\n",
    "        water_resistance_value = 0\n",
    "        power_reserve_value = 0\n",
    "    brand_feature=lbbrn.fit_transform([brand])\n",
    "    return np.array([[brand_feature[0], water_resistance_value,power_reserve_value]])\n",
    "\n",
    "@app.route('/', methods=['GET', 'POST'])\n",
    "def index():\n",
    "    form = WatchPredictionForm()\n",
    "    prediction_result = None\n",
    "    error_message = None\n",
    "\n",
    "    if form.validate_on_submit():\n",
    "        if watch_model is None:\n",
    "            error_message = \"Machine learning model not loaded. Please check server logs for errors.\"\n",
    "        else:\n",
    "            try:\n",
    "                brand = form.brand.data\n",
    "                water_resistance = form.water_resistance.data\n",
    "                power_reserve = form.power_reserve.data\n",
    "                input_for_model = preprocess_input(brand, water_resistance,power_reserve)\n",
    "                predicted_price = watch_model.predict(input_for_model)\n",
    "                prediction_result = {\n",
    "                    'brand': brand,\n",
    "                    'water_resistance': form.water_resistance, \n",
    "                    'power_reserve': form.power_reserve,\n",
    "                    'price': predicted_price\n",
    "                }\n",
    "                \n",
    "            except Exception as e:\n",
    "                error_message = f\"An error occurred during prediction: {str(e)}. Please check your input.\"\n",
    "                print(f\"Prediction error: {e}\")\n",
    "\n",
    "    return render_template('model.html', form=form, prediction_result=prediction_result, error_message=error_message)\n",
    "app.run()"
   ]
  },
  {
   "cell_type": "code",
   "execution_count": null,
   "id": "e2e9b802-0cf5-41d3-917c-9260c761068a",
   "metadata": {},
   "outputs": [],
   "source": []
  }
 ],
 "metadata": {
  "kernelspec": {
   "display_name": "Python 3 (ipykernel)",
   "language": "python",
   "name": "python3"
  },
  "language_info": {
   "codemirror_mode": {
    "name": "ipython",
    "version": 3
   },
   "file_extension": ".py",
   "mimetype": "text/x-python",
   "name": "python",
   "nbconvert_exporter": "python",
   "pygments_lexer": "ipython3",
   "version": "3.12.7"
  }
 },
 "nbformat": 4,
 "nbformat_minor": 5
}
